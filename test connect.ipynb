{
 "cells": [
  {
   "cell_type": "code",
   "execution_count": 1,
   "id": "fd6495dd",
   "metadata": {},
   "outputs": [],
   "source": [
    "#Testing import and data linking\n",
    "#Import pandas\n",
    "import pandas as pd\n",
    "\n",
    "#test importing covid data set\n",
    "covid_data = pd.read_csv(\"/Users/Phillip/UDCPA_PhillipMarsh/owid-covid-data.csv\")\n",
    "\n",
    "#  source of covid data: https://github.com/owid/covid-19-data/tree/master/public/data \n",
    "    # Our World in Data (OWID): https://ourworldindata.org/coronavirus#explore-the-global-situation\n"
   ]
  },
  {
   "cell_type": "code",
   "execution_count": 2,
   "id": "0e71a3ef",
   "metadata": {},
   "outputs": [
    {
     "name": "stdout",
     "output_type": "stream",
     "text": [
      "  iso_code continent     location        date  total_cases  new_cases  \\\n",
      "0      AFG      Asia  Afghanistan  2020-02-24          5.0        5.0   \n",
      "1      AFG      Asia  Afghanistan  2020-02-25          5.0        0.0   \n",
      "2      AFG      Asia  Afghanistan  2020-02-26          5.0        0.0   \n",
      "3      AFG      Asia  Afghanistan  2020-02-27          5.0        0.0   \n",
      "4      AFG      Asia  Afghanistan  2020-02-28          5.0        0.0   \n",
      "\n",
      "   new_cases_smoothed  total_deaths  new_deaths  new_deaths_smoothed  ...  \\\n",
      "0                 NaN           NaN         NaN                  NaN  ...   \n",
      "1                 NaN           NaN         NaN                  NaN  ...   \n",
      "2                 NaN           NaN         NaN                  NaN  ...   \n",
      "3                 NaN           NaN         NaN                  NaN  ...   \n",
      "4                 NaN           NaN         NaN                  NaN  ...   \n",
      "\n",
      "   female_smokers  male_smokers  handwashing_facilities  \\\n",
      "0             NaN           NaN                  37.746   \n",
      "1             NaN           NaN                  37.746   \n",
      "2             NaN           NaN                  37.746   \n",
      "3             NaN           NaN                  37.746   \n",
      "4             NaN           NaN                  37.746   \n",
      "\n",
      "   hospital_beds_per_thousand  life_expectancy  human_development_index  \\\n",
      "0                         0.5            64.83                    0.511   \n",
      "1                         0.5            64.83                    0.511   \n",
      "2                         0.5            64.83                    0.511   \n",
      "3                         0.5            64.83                    0.511   \n",
      "4                         0.5            64.83                    0.511   \n",
      "\n",
      "   excess_mortality_cumulative_absolute  excess_mortality_cumulative  \\\n",
      "0                                   NaN                          NaN   \n",
      "1                                   NaN                          NaN   \n",
      "2                                   NaN                          NaN   \n",
      "3                                   NaN                          NaN   \n",
      "4                                   NaN                          NaN   \n",
      "\n",
      "   excess_mortality  excess_mortality_cumulative_per_million  \n",
      "0               NaN                                      NaN  \n",
      "1               NaN                                      NaN  \n",
      "2               NaN                                      NaN  \n",
      "3               NaN                                      NaN  \n",
      "4               NaN                                      NaN  \n",
      "\n",
      "[5 rows x 67 columns]\n"
     ]
    }
   ],
   "source": [
    "#look at header sample data\n",
    "print(covid_data.head())"
   ]
  }
 ],
 "metadata": {
  "kernelspec": {
   "display_name": "Python 3 (ipykernel)",
   "language": "python",
   "name": "python3"
  },
  "language_info": {
   "codemirror_mode": {
    "name": "ipython",
    "version": 3
   },
   "file_extension": ".py",
   "mimetype": "text/x-python",
   "name": "python",
   "nbconvert_exporter": "python",
   "pygments_lexer": "ipython3",
   "version": "3.9.7"
  }
 },
 "nbformat": 4,
 "nbformat_minor": 5
}
