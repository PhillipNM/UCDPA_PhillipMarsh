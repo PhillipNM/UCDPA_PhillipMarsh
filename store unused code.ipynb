{
 "cells": [
  {
   "cell_type": "code",
   "execution_count": null,
   "id": "73c11886",
   "metadata": {},
   "outputs": [],
   "source": [
    "# Machine learning KNN data\n",
    "\n",
    "# create 2 sets of data from \"covid_data_sns\": 1. uses the 2020, 2021 data and 2. use the 2022 data\n",
    "\n",
    "# Just 2020 and 2021 data\n",
    "covid_data_sns_test1 = covid_data_small[covid_data_small[\"date\"].isin([\"2020-12-31\",\"2021-12-31\"])] #,str(last_date)])]\n",
    "\n",
    "# just the 2022 data\n",
    "covid_data_sns_test2 = covid_data_small[covid_data_small[\"date\"].isin([str(last_date)])]\n",
    "\n",
    "#use only the columns used in the X\n",
    "covid_data_test2_sample = covid_data_sns_test2[['total_cases_per_100k',\n",
    "                               'population'\n",
    "                               ]]\n",
    "\n",
    "print(covid_data_sns_test1.head())\n",
    "print(\"-\"*100)\n",
    "print(covid_data_test2_sample.head())\n"
   ]
  },
  {
   "cell_type": "markdown",
   "id": "ad498141",
   "metadata": {},
   "source": [
    "first try with knn"
   ]
  },
  {
   "cell_type": "code",
   "execution_count": null,
   "id": "77553660",
   "metadata": {},
   "outputs": [],
   "source": [
    "# using sklearn neighbors\n",
    "df_sk = covid_data_sns_test1 #2020 and 2021\n",
    "\n",
    "X = df_sk[[\"total_cases_per_100k\",\"population\"]].values\n",
    "y = df_sk[\"total_deaths_per_100k\"].values #predict\n",
    "print(X.shape, y.shape)"
   ]
  },
  {
   "cell_type": "code",
   "execution_count": null,
   "id": "d8b2392b",
   "metadata": {},
   "outputs": [],
   "source": [
    "# instantiate\n",
    "\n",
    "knn = KNeighborsClassifier(n_neighbors=15)\n",
    "knn.fit(X,y)\n",
    "\n",
    "X_new = covid_data_test2_sample\n",
    "print(X_new.shape)\n",
    "\n",
    "#predictions = knn.predict(X_new)\n",
    "#print(\"Predictions: {}\".format(predictions))"
   ]
  },
  {
   "cell_type": "markdown",
   "id": "951619d7",
   "metadata": {},
   "source": [
    "Second try at knn"
   ]
  },
  {
   "cell_type": "code",
   "execution_count": null,
   "id": "52280bf7",
   "metadata": {},
   "outputs": [],
   "source": [
    "df_sk = df_2020 \n",
    "\n",
    "X = df_sk[[\"gdp_per_capita\",\"population_density\"]].values\n",
    "y = df_sk[\"total_deaths_per_100k\"].values\n",
    "print(X.shape, y.shape)"
   ]
  },
  {
   "cell_type": "code",
   "execution_count": null,
   "id": "cc1d0d52",
   "metadata": {},
   "outputs": [],
   "source": [
    "# instantiate\n",
    "\n",
    "knn = KNeighborsClassifier(n_neighbors=5)\n",
    "knn.fit(X,y)\n",
    "\n",
    "X_new = df_2021\n",
    "print(X_new.shape)\n",
    "\n",
    "#predictions = knn.predict(X_new)\n",
    "#print(\"Predictions: {}\".format(predictions))"
   ]
  },
  {
   "cell_type": "code",
   "execution_count": null,
   "id": "8ad86571",
   "metadata": {},
   "outputs": [],
   "source": [
    "#histogram\n",
    "covid_data[\"gdp_per_capita\"].hist(bins=10)\n",
    "plt.show()\n"
   ]
  },
  {
   "cell_type": "code",
   "execution_count": null,
   "id": "d47e789d",
   "metadata": {},
   "outputs": [],
   "source": [
    "df_list =[\"PRK\",\"YEM\",\"NER\",\"TCD\",\"TZA\",\"SLE\",\"BFA\",\"COD\",\"MAC\"]\n",
    "\n",
    "df_2022_N = df_2022[df_2022.iso_code.isin(df_list)==False]\n",
    "\n",
    "bot_df_2022_deaths_per_100k = df_2022_N.nsmallest(n=top_n_parameter, columns=[\"total_deaths_per_100k\"])\n",
    "\n",
    "#Top Population and GDP per capita\n",
    "\n",
    "#Top deaths vs gdp\n",
    "sns.scatterplot(x=\"gdp_per_capita\",y=\"total_deaths_per_100k\",data=top_df_2022_cases_per_100k, hue=\"location\")\n",
    "plt.title(\"High Deaths per 100k vs GDP, 2022\", size = 15)\n",
    "plt.legend(bbox_to_anchor=(1.05, 1), loc='upper left', borderaxespad=0)\n",
    "plt.show()\n",
    "\n",
    "#bottom deaths vs gdp\n",
    "sns.scatterplot(x=\"gdp_per_capita\",y=\"total_deaths_per_100k\",data=bot_df_2022_cases_per_100k, hue=\"location\")\n",
    "plt.title(\"Low Deaths per 100k vs GDP, 2022\", size = 15)\n",
    "plt.legend(bbox_to_anchor=(1.05, 1), loc='upper left', borderaxespad=0)\n",
    "plt.show()"
   ]
  }
 ],
 "metadata": {
  "kernelspec": {
   "display_name": "Python 3 (ipykernel)",
   "language": "python",
   "name": "python3"
  },
  "language_info": {
   "codemirror_mode": {
    "name": "ipython",
    "version": 3
   },
   "file_extension": ".py",
   "mimetype": "text/x-python",
   "name": "python",
   "nbconvert_exporter": "python",
   "pygments_lexer": "ipython3",
   "version": "3.9.7"
  }
 },
 "nbformat": 4,
 "nbformat_minor": 5
}
