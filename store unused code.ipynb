{
 "cells": [
  {
   "cell_type": "code",
   "execution_count": null,
   "id": "ffab5d22",
   "metadata": {},
   "outputs": [],
   "source": [
    "# Machine learning KNN data\n",
    "\n",
    "# create 2 sets of data from \"covid_data_sns\": 1. uses the 2020, 2021 data and 2. use the 2022 data\n",
    "\n",
    "# Just 2020 and 2021 data\n",
    "covid_data_sns_test1 = covid_data_small[covid_data_small[\"date\"].isin([\"2020-12-31\",\"2021-12-31\"])] #,str(last_date)])]\n",
    "\n",
    "# just the 2022 data\n",
    "covid_data_sns_test2 = covid_data_small[covid_data_small[\"date\"].isin([str(last_date)])]\n",
    "\n",
    "#use only the columns used in the X\n",
    "covid_data_test2_sample = covid_data_sns_test2[['total_cases_per_100k',\n",
    "                               'population'\n",
    "                               ]]\n",
    "\n",
    "print(covid_data_sns_test1.head())\n",
    "print(\"-\"*100)\n",
    "print(covid_data_test2_sample.head())\n"
   ]
  },
  {
   "cell_type": "markdown",
   "id": "67918b98",
   "metadata": {},
   "source": [
    "first try with knn"
   ]
  },
  {
   "cell_type": "code",
   "execution_count": null,
   "id": "a7d16bbd",
   "metadata": {},
   "outputs": [],
   "source": [
    "# using sklearn neighbors\n",
    "df_sk = covid_data_sns_test1 #2020 and 2021\n",
    "\n",
    "X = df_sk[[\"total_cases_per_100k\",\"population\"]].values\n",
    "y = df_sk[\"total_deaths_per_100k\"].values #predict\n",
    "print(X.shape, y.shape)"
   ]
  },
  {
   "cell_type": "code",
   "execution_count": null,
   "id": "c1a21e13",
   "metadata": {},
   "outputs": [],
   "source": [
    "# instantiate\n",
    "\n",
    "knn = KNeighborsClassifier(n_neighbors=15)\n",
    "knn.fit(X,y)\n",
    "\n",
    "X_new = covid_data_test2_sample\n",
    "print(X_new.shape)\n",
    "\n",
    "#predictions = knn.predict(X_new)\n",
    "#print(\"Predictions: {}\".format(predictions))"
   ]
  },
  {
   "cell_type": "markdown",
   "id": "0ebbccee",
   "metadata": {},
   "source": [
    "Second try at knn"
   ]
  },
  {
   "cell_type": "code",
   "execution_count": null,
   "id": "06c56fce",
   "metadata": {},
   "outputs": [],
   "source": [
    "df_sk = df_2020 \n",
    "\n",
    "X = df_sk[[\"gdp_per_capita\",\"population_density\"]].values\n",
    "y = df_sk[\"total_deaths_per_100k\"].values\n",
    "print(X.shape, y.shape)"
   ]
  },
  {
   "cell_type": "code",
   "execution_count": null,
   "id": "f8cb053f",
   "metadata": {},
   "outputs": [],
   "source": [
    "# instantiate\n",
    "\n",
    "knn = KNeighborsClassifier(n_neighbors=5)\n",
    "knn.fit(X,y)\n",
    "\n",
    "X_new = df_2021\n",
    "print(X_new.shape)\n",
    "\n",
    "#predictions = knn.predict(X_new)\n",
    "#print(\"Predictions: {}\".format(predictions))"
   ]
  },
  {
   "cell_type": "code",
   "execution_count": null,
   "id": "5b597e09",
   "metadata": {},
   "outputs": [],
   "source": [
    "#histogram\n",
    "covid_data[\"gdp_per_capita\"].hist(bins=10)\n",
    "plt.show()\n"
   ]
  }
 ],
 "metadata": {
  "kernelspec": {
   "display_name": "Python 3 (ipykernel)",
   "language": "python",
   "name": "python3"
  },
  "language_info": {
   "codemirror_mode": {
    "name": "ipython",
    "version": 3
   },
   "file_extension": ".py",
   "mimetype": "text/x-python",
   "name": "python",
   "nbconvert_exporter": "python",
   "pygments_lexer": "ipython3",
   "version": "3.9.7"
  }
 },
 "nbformat": 4,
 "nbformat_minor": 5
}
