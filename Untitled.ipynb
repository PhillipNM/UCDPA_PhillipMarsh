{
 "cells": [
  {
   "cell_type": "code",
   "execution_count": 1,
   "id": "e51b015d",
   "metadata": {},
   "outputs": [
    {
     "name": "stdout",
     "output_type": "stream",
     "text": [
      "Requirement already satisfied: nbconvert in c:\\users\\phillip\\anaconda3\\lib\\site-packages (6.1.0)\n",
      "Requirement already satisfied: bleach in c:\\users\\phillip\\anaconda3\\lib\\site-packages (from nbconvert) (4.0.0)\n",
      "Requirement already satisfied: pygments>=2.4.1 in c:\\users\\phillip\\anaconda3\\lib\\site-packages (from nbconvert) (2.10.0)\n",
      "Requirement already satisfied: traitlets>=5.0 in c:\\users\\phillip\\anaconda3\\lib\\site-packages (from nbconvert) (5.1.0)\n",
      "Requirement already satisfied: jupyter-core in c:\\users\\phillip\\anaconda3\\lib\\site-packages (from nbconvert) (4.8.1)\n",
      "Requirement already satisfied: defusedxml in c:\\users\\phillip\\anaconda3\\lib\\site-packages (from nbconvert) (0.7.1)\n",
      "Requirement already satisfied: mistune<2,>=0.8.1 in c:\\users\\phillip\\anaconda3\\lib\\site-packages (from nbconvert) (0.8.4)\n",
      "Requirement already satisfied: nbclient<0.6.0,>=0.5.0 in c:\\users\\phillip\\anaconda3\\lib\\site-packages (from nbconvert) (0.5.3)\n",
      "Requirement already satisfied: jinja2>=2.4 in c:\\users\\phillip\\anaconda3\\lib\\site-packages (from nbconvert) (2.11.3)\n",
      "Requirement already satisfied: jupyterlab-pygments in c:\\users\\phillip\\anaconda3\\lib\\site-packages (from nbconvert) (0.1.2)\n",
      "Requirement already satisfied: testpath in c:\\users\\phillip\\anaconda3\\lib\\site-packages (from nbconvert) (0.5.0)\n",
      "Requirement already satisfied: nbformat>=4.4 in c:\\users\\phillip\\anaconda3\\lib\\site-packages (from nbconvert) (5.1.3)\n",
      "Requirement already satisfied: pandocfilters>=1.4.1 in c:\\users\\phillip\\anaconda3\\lib\\site-packages (from nbconvert) (1.4.3)\n",
      "Requirement already satisfied: entrypoints>=0.2.2 in c:\\users\\phillip\\anaconda3\\lib\\site-packages (from nbconvert) (0.3)\n",
      "Requirement already satisfied: MarkupSafe>=0.23 in c:\\users\\phillip\\anaconda3\\lib\\site-packages (from jinja2>=2.4->nbconvert) (1.1.1)\n",
      "Requirement already satisfied: jupyter-client>=6.1.5 in c:\\users\\phillip\\anaconda3\\lib\\site-packages (from nbclient<0.6.0,>=0.5.0->nbconvert) (6.1.12)\n",
      "Requirement already satisfied: nest-asyncio in c:\\users\\phillip\\anaconda3\\lib\\site-packages (from nbclient<0.6.0,>=0.5.0->nbconvert) (1.5.1)\n",
      "Requirement already satisfied: async-generator in c:\\users\\phillip\\anaconda3\\lib\\site-packages (from nbclient<0.6.0,>=0.5.0->nbconvert) (1.10)\n",
      "Requirement already satisfied: tornado>=4.1 in c:\\users\\phillip\\anaconda3\\lib\\site-packages (from jupyter-client>=6.1.5->nbclient<0.6.0,>=0.5.0->nbconvert) (6.1)\n",
      "Requirement already satisfied: pyzmq>=13 in c:\\users\\phillip\\anaconda3\\lib\\site-packages (from jupyter-client>=6.1.5->nbclient<0.6.0,>=0.5.0->nbconvert) (22.2.1)\n",
      "Requirement already satisfied: python-dateutil>=2.1 in c:\\users\\phillip\\anaconda3\\lib\\site-packages (from jupyter-client>=6.1.5->nbclient<0.6.0,>=0.5.0->nbconvert) (2.8.2)\n",
      "Requirement already satisfied: pywin32>=1.0 in c:\\users\\phillip\\anaconda3\\lib\\site-packages (from jupyter-core->nbconvert) (228)\n",
      "Requirement already satisfied: jsonschema!=2.5.0,>=2.4 in c:\\users\\phillip\\anaconda3\\lib\\site-packages (from nbformat>=4.4->nbconvert) (3.2.0)\n",
      "Requirement already satisfied: ipython-genutils in c:\\users\\phillip\\anaconda3\\lib\\site-packages (from nbformat>=4.4->nbconvert) (0.2.0)\n",
      "Requirement already satisfied: pyrsistent>=0.14.0 in c:\\users\\phillip\\anaconda3\\lib\\site-packages (from jsonschema!=2.5.0,>=2.4->nbformat>=4.4->nbconvert) (0.18.0)\n",
      "Requirement already satisfied: attrs>=17.4.0 in c:\\users\\phillip\\anaconda3\\lib\\site-packages (from jsonschema!=2.5.0,>=2.4->nbformat>=4.4->nbconvert) (21.2.0)\n",
      "Requirement already satisfied: setuptools in c:\\users\\phillip\\anaconda3\\lib\\site-packages (from jsonschema!=2.5.0,>=2.4->nbformat>=4.4->nbconvert) (58.0.4)\n",
      "Requirement already satisfied: six>=1.11.0 in c:\\users\\phillip\\anaconda3\\lib\\site-packages (from jsonschema!=2.5.0,>=2.4->nbformat>=4.4->nbconvert) (1.16.0)\n",
      "Requirement already satisfied: packaging in c:\\users\\phillip\\anaconda3\\lib\\site-packages (from bleach->nbconvert) (21.0)\n",
      "Requirement already satisfied: webencodings in c:\\users\\phillip\\anaconda3\\lib\\site-packages (from bleach->nbconvert) (0.5.1)\n",
      "Requirement already satisfied: pyparsing>=2.0.2 in c:\\users\\phillip\\anaconda3\\lib\\site-packages (from packaging->bleach->nbconvert) (3.0.4)\n",
      "Note: you may need to restart the kernel to use updated packages.\n"
     ]
    }
   ],
   "source": [
    "pip install nbconvert\n"
   ]
  },
  {
   "cell_type": "code",
   "execution_count": 2,
   "id": "8cd1ad49",
   "metadata": {},
   "outputs": [
    {
     "name": "stdout",
     "output_type": "stream",
     "text": [
      "Requirement already satisfied: pyppeteer in c:\\users\\phillip\\anaconda3\\lib\\site-packages (0.2.2)\n",
      "Requirement already satisfied: websockets<9.0,>=8.1 in c:\\users\\phillip\\anaconda3\\lib\\site-packages (from pyppeteer) (8.1)\n",
      "Requirement already satisfied: appdirs<2.0.0,>=1.4.3 in c:\\users\\phillip\\anaconda3\\lib\\site-packages (from pyppeteer) (1.4.4)\n",
      "Requirement already satisfied: urllib3<2.0.0,>=1.25.8 in c:\\users\\phillip\\anaconda3\\lib\\site-packages (from pyppeteer) (1.26.7)\n",
      "Requirement already satisfied: tqdm<5.0.0,>=4.42.1 in c:\\users\\phillip\\anaconda3\\lib\\site-packages (from pyppeteer) (4.62.3)\n",
      "Requirement already satisfied: pyee<8.0.0,>=7.0.1 in c:\\users\\phillip\\anaconda3\\lib\\site-packages (from pyppeteer) (7.0.4)\n",
      "Requirement already satisfied: colorama in c:\\users\\phillip\\anaconda3\\lib\\site-packages (from tqdm<5.0.0,>=4.42.1->pyppeteer) (0.4.4)\n",
      "Note: you may need to restart the kernel to use updated packages.\n"
     ]
    }
   ],
   "source": [
    "pip install pyppeteer\n"
   ]
  }
 ],
 "metadata": {
  "kernelspec": {
   "display_name": "Python 3 (ipykernel)",
   "language": "python",
   "name": "python3"
  },
  "language_info": {
   "codemirror_mode": {
    "name": "ipython",
    "version": 3
   },
   "file_extension": ".py",
   "mimetype": "text/x-python",
   "name": "python",
   "nbconvert_exporter": "python",
   "pygments_lexer": "ipython3",
   "version": "3.9.7"
  }
 },
 "nbformat": 4,
 "nbformat_minor": 5
}
