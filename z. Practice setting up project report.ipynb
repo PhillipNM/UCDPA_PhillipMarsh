{
 "cells": [
  {
   "cell_type": "markdown",
   "id": "86234c70",
   "metadata": {},
   "source": [
    "<H1 style=\"background-color:#00008b;color:#F8F8FF;\">Project Report - Phillip Marsh</H1>\n",
    "<hr>\n",
    "\n",
    "<H2 style=\"color:#00008b;\">GitHub URL</H2>\n",
    "Phillip's GutHub can be found at: <a href=\"https://github.com/PhillipNM/UCDPA_PhillipMarsh\" target=\"_blank\">Phillip's GitHub Repository</a>\n",
    "<pre style=\"font-family:arial;\">\n",
    "document should contain between 1,500 and 2,00 words\n",
    "</pre>\n",
    "<h2 style=\"color:#00008b;\">Abstract</h2>\n",
    "(short overview of the entire project)\n",
    "\n",
    "<h2 style=\"color:#00008b;\">Introduction</h2>\n",
    "(Explain why you chose this project use case)\n",
    "\n",
    "<h2 style=\"color:#00008b;\">Datasets</h2>\n",
    "(Provide a description of your dataset and source. Also justify why you chose this source)\n",
    "\n",
    "<h6>Deciding on the dataset</h6>\n",
    "<br>\n",
    "I had several ideas, however, I explored three main ideas:\n",
    "\n",
    "<pre style=\"font-family:arial;\">\n",
    "1. Predicting currency fx changes to maximise buys and sells.\n",
    "As I have two children in Canada in university the fx rate for USD to CAD is always top of mind.  After exploring this for a bit the challenge to understand the market conditions that I could use for making predictions did not seem to fit well with what I needed for this project.\n",
    "2. Flight delays, cancellations and the average compensation.  Are the airlines \"gaming\" the system to not pay-out customers given the turmoil in travel I thought it would be interesting to compare recent cancellations, delays and reasons and compensations vs. pre-covid data. I researched for datasets but could not find anything current, although there were some sites that may have had data; I would have to pay for and for this reason I decided against this topic.\n",
    "3. COVID data.  This idea would have plenty of source data out there but would it offer the ability to make predictions and not just forecasting trends.\n",
    "</pre>\n",
    "\n",
    "<h6>COVID Data</h6>\n",
    "   I picked the COVID idea as there is good data and the types of calculations and techniques required would lend itself to the project easily. This data is something we are all very familiar with at this time. Governments, countries, organizations and corporations have struggled with rules and regulations trying to balance controlling the epidemic vs. economic stability.\n",
    "\n",
    "I reviewed a couple of sources and in the end selected \"Our World In Data\" (OWID).  OWID has a comprehensive set of publicly available data specifically for COVID.  In working with the FIL business continuity team, I assited with the COVID response. I came across this data source and found it very useful. In the end this is the source we used to provide global situational updates for the senior members in the organization so they could decide on stay at home and return to office responses for each jurisdiction across the organization.\n",
    "\n",
    "source of covid data: https://github.com/owid/covid-19-data/tree/master/public/data \n",
    "<p>Originally I downloaded a (.csv) copy of the data to use but the file was large (I was getting an error that the file was to big for my type of GitHub repository account) when I tried to push the data to my GitHub repository.  I then researched how I could link to an external csv file, and this solved the problem</p>\n",
    "\n",
    "source of GDP data: https://data.worldbank.org/indicator/NY.GDP.MKTP.CD?year_high_desc=false\n",
    "<p>the file is a zip file which is difficult to connect to so in this case I downloaded the file and unzipped it.</p>\n"
   ]
  },
  {
   "cell_type": "markdown",
   "id": "5ff6f182",
   "metadata": {},
   "source": [
    "<h2 style=\"color:#00008b;\">Implementation Process</h2>\n",
    "(describe your entire process in detail)"
   ]
  },
  {
   "cell_type": "markdown",
   "id": "834fd799",
   "metadata": {},
   "source": [
    "<h6>Hypothesis</h6>\n",
    "My hypothesis is that countries with higher population density and lower GDP have higher mortality rates than for higher density higher GDP countries. It would also be interesting to see how lower density and higher GDP countries fared and if density and GDP are a predicor of mortaility for a disease like COVID\n",
    "\n",
    "<pre style=\"font-family:arial;\">\n",
    "The implementation process I followed was\n",
    "    Gather Data\n",
    "    Transform & clean\n",
    "    Explore\n",
    "    Analyze and build models\n",
    "</pre\n",
    ">    \n",
    "<h6>Gather Data</h6>\n",
    "There are several measures I need for my analysis if any of the data sets include 0 values for total I will use the prior days data as total are cumlative\n",
    "<pre style=\"font-family:arial;\">\n",
    "Measures for each country:\n",
    "    Highest Cases per 100k people: for year end 2020, 2021 and latest 2022\n",
    "    Highest Deaths per 100k people: for year end 2020, 2021 and latest 2022\n",
    "    Lowest Cases per 100k people: for year end 2020, 2021 and latest 2022\n",
    "    Lowest Deaths per 100k people: for year end 2020, 2021 and latest 2022\n",
    "    Look at the 14 day rolling average cases per 100k people over time\n",
    "    Look at the 14 day rolling average deaths per 100k people over time\n",
    "    Population density\n",
    "    GDP per person\n",
    "</pre>\n",
    "<h6>Transform & clean and Explore</h6>\n",
    "<h6>Analyze and build models</h6>\n",
    "Take the top 20: \n",
    "    Categorize as Highest, Lowest Countries for Cases, Deaths and mege into a data set to run analysis and correlations\n",
    "    Create a High/Low GDP Category\n",
    "    Create a High/Low Population Density Category\n",
    "\n",
    "Run agaisnt the machine learnng logic for insights\n"
   ]
  },
  {
   "cell_type": "markdown",
   "id": "9c4af6aa",
   "metadata": {},
   "source": [
    "<h3>Import and review the data</h3>"
   ]
  },
  {
   "cell_type": "code",
   "execution_count": 1,
   "id": "ce6925ef",
   "metadata": {},
   "outputs": [],
   "source": [
    "# Import packages needed for project:\n",
    "import pandas as pd\n",
    "import requests\n",
    "import io\n",
    "import datetime as dt\n",
    "from datetime import datetime\n",
    "from datetime import timedelta\n",
    "import numpy as np\n",
    "from collections import Counter\n",
    "import re\n",
    "import sklearn\n",
    "\n",
    "# Visualization\n",
    "import matplotlib.pyplot as plt\n",
    "# import matplotlib.animation as animation\n",
    "import seaborn as sns\n",
    "\n",
    "# Machine learning\n",
    "#from sklearn.module import Model\n",
    "from sklearn.linear_model import LinearRegression, LogisticRegression, Ridge, Lasso\n",
    "from sklearn.model_selection import train_test_split, cross_val_score, KFold\n",
    "from sklearn.metrics import classification_report, confusion_matrix\n",
    "from sklearn.neighbors import KNeighborsClassifier\n",
    "\n",
    "\n",
    "\n",
    "\n"
   ]
  },
  {
   "cell_type": "code",
   "execution_count": 2,
   "id": "37bb56a3",
   "metadata": {},
   "outputs": [],
   "source": [
    "# Global Variables\n",
    "\n",
    "column_count_limit=30 #number of columns deemed to be managble for exploring data\n",
    "\n",
    "\n",
    "#number of days used in rolling average default = 14 but could change to 25,30 etc depending on what timeframe is reviewed\n",
    "days_calc = 14 #n days for calculations. \n",
    "\n",
    "top_n_parameter = 10"
   ]
  },
  {
   "cell_type": "markdown",
   "id": "e31e5fa7",
   "metadata": {},
   "source": [
    "<h4>Gather data</h4>"
   ]
  },
  {
   "cell_type": "code",
   "execution_count": null,
   "id": "ae9e9f07",
   "metadata": {},
   "outputs": [],
   "source": [
    "# Import COVID data\n",
    "\n",
    "# Link and download COVID dataset from OWID\n",
    "url = \"https://covid.ourworldindata.org/data/owid-covid-data.csv\" \n",
    "download = requests.get(url).content\n",
    "\n",
    "# Create the COVID as a pandas dataframe\n",
    "covid_data_raw = pd.read_csv(io.StringIO(download.decode('utf-8')),parse_dates=['date']) #need to parse the date field\n",
    "#source: https://stackoverflow.com/questions/59004960/converting-date-format-in-a-dataframe-from-a-csv-file\n"
   ]
  },
  {
   "cell_type": "code",
   "execution_count": null,
   "id": "00703336",
   "metadata": {},
   "outputs": [],
   "source": [
    "# Import World Bank GDP data\n",
    "    # source: https://data.worldbank.org/indicator/NY.GDP.MKTP.CD?year_high_desc=false\n",
    "\n",
    "    # Create the GDP raw file as a pandas dataframe, headers start on row 4\n",
    "gdp_data_raw = pd.read_csv(\"/Users/Phillip/UDCPA_PhillipMarsh/data/API_NY.GDP.MKTP.CD_DS2_en_csv_v2_4489151.csv\", skiprows=4)\n"
   ]
  },
  {
   "cell_type": "markdown",
   "id": "ddfecf06",
   "metadata": {},
   "source": [
    "<h5>Exploring the data</h5>\n",
    "\n",
    "Review the headers, number of headers, type of data to undestand more about the data available"
   ]
  },
  {
   "cell_type": "code",
   "execution_count": null,
   "id": "723867c7",
   "metadata": {},
   "outputs": [],
   "source": [
    "# name of a dataframe with comment before and after\n",
    "\n",
    "def name_obj(df, comment, comment2=\"\"):\n",
    "    \"\"\"Create statement naming the dataframe around comment and comment2\n",
    "    \n",
    "    Args:\n",
    "        df (dataFrame): the name of the dataframe\n",
    "        comment (string): comment string which goes before the name of the dataframe\n",
    "        comment2 (string): comment string which goes after the name of the dataframe (optional)\n",
    "    \"\"\"\n",
    "    name =[x for x in globals() if globals()[x] is df][0]\n",
    "    return (comment+name+comment2)\n",
    "\n",
    "covid_data_raw_name = name_obj(covid_data_raw,\"Dataframe Name is:\")\n",
    "gdp_data_raw_name = name_obj(gdp_data_raw,\"Dataframe Name is:\")\n",
    "\n",
    "#example: test the function\n",
    "print(covid_data_raw_name)\n",
    "print(gdp_data_raw_name)"
   ]
  },
  {
   "cell_type": "code",
   "execution_count": null,
   "id": "ed50bffe",
   "metadata": {
    "scrolled": false
   },
   "outputs": [],
   "source": [
    "# create functions for reviewing dataframe headers\n",
    "\n",
    "# create a function to make list from the column header names of a dataframe\n",
    "def column_headers_list(df):\n",
    "    \"\"\"create a list of column headers\n",
    "    \n",
    "    Args:\n",
    "        df (DataFrame): the name of the dataframe to use\n",
    "    \n",
    "    Returns:\n",
    "        list of column headers\n",
    "    \"\"\"\n",
    "    \n",
    "    columns_lst = df.columns.tolist() # create a list of the column headers from the dataframe\n",
    "        \n",
    "    return columns_lst\n"
   ]
  },
  {
   "cell_type": "code",
   "execution_count": null,
   "id": "236d9754",
   "metadata": {},
   "outputs": [],
   "source": [
    "# Count the number of items in the list from the column header names list of a dataframe\n",
    "\n",
    "#test the function \"column_headers_list\"\n",
    "\n",
    "# Raw Covid data \n",
    "columns_lst_test = column_headers_list(covid_data_raw)\n",
    "columns_len_test = len(columns_lst_test)\n",
    "\n",
    "# Test function\n",
    "print(columns_lst_test)\n",
    "print(columns_len_test)\n",
    "\n",
    "\n",
    "# Raw gdp data \n",
    "columns_lst_test = column_headers_list(gdp_data_raw)\n",
    "print(\"There are :\"+str(columns_len_test)+\" header records\")\n",
    "\n",
    "# Test function\n",
    "print(columns_lst_test)\n",
    "print(\"There are :\"+str(columns_len_test)+\" header records\")\n",
    "\n"
   ]
  },
  {
   "cell_type": "code",
   "execution_count": null,
   "id": "4038e426",
   "metadata": {},
   "outputs": [],
   "source": [
    "# create a function determine if the data set is too wide\n",
    "def columns_comment(xlist,column_count_limit=30):\n",
    "    \"\"\"Use column_len to decide if the dataframe is too large to manage\n",
    "    \n",
    "    Args:\n",
    "        xlist(list): list to review\n",
    "        columns_len(int): from column_headers_list function\n",
    "        column_count_limit(float): limi number of columns to compare\n",
    "    \"\"\"\n",
    "    columns_len = len(xlist)\n",
    "    \n",
    "    if columns_len>column_count_limit:\n",
    "        comment = \"There are many columns (\"+str(columns_len)+\"), Drop a some of them to imporve performance and the size of the file\"\n",
    "    else:\n",
    "        comment = \"Number of columns appears manageable\"\n",
    "    \n",
    "    return comment, columns_len\n",
    "\n"
   ]
  },
  {
   "cell_type": "code",
   "execution_count": null,
   "id": "2458f294",
   "metadata": {},
   "outputs": [],
   "source": [
    "#test function columns_comment()\n",
    "\n",
    "# test for covid data\n",
    "columns_lst_covid = column_headers_list(covid_data_raw) #list of headers\n",
    "\n",
    "comment_covid = columns_comment(columns_lst_covid,)[0] #Comment string\n",
    "header_len_covid = columns_comment(columns_lst_covid,column_count_limit=30)[1] #Number of items in list\n",
    "\n",
    "print(comment_covid)\n",
    "\n",
    "print(\"-\"*100)"
   ]
  },
  {
   "cell_type": "code",
   "execution_count": null,
   "id": "1079c8ca",
   "metadata": {},
   "outputs": [],
   "source": [
    "# test for gdp data\n",
    "columns_lst_gdp = column_headers_list(gdp_data_raw)\n",
    "\n",
    "comment_gdp = columns_comment(columns_lst_gdp)[0]\n",
    "header_len_gdp = columns_comment(columns_lst_gdp,column_count_limit=30)[1]\n",
    "\n",
    "\n",
    "print(comment_gdp)\n",
    "\n",
    "print(\"-\"*100)"
   ]
  },
  {
   "cell_type": "code",
   "execution_count": null,
   "id": "7f6a903e",
   "metadata": {},
   "outputs": [],
   "source": [
    "# Understanding the data \n",
    "\n",
    "# Information (shape) on are the records + columns\n",
    "\n",
    "# covid raw data\n",
    "print(covid_data_raw.shape)\n",
    "\n",
    "# gdp raw data\n",
    "print(gdp_data_raw.shape)"
   ]
  },
  {
   "cell_type": "code",
   "execution_count": null,
   "id": "5ecf03a3",
   "metadata": {},
   "outputs": [],
   "source": [
    "# review Covid raw data\n",
    "\n",
    "# show the column headers and the number of columns\n",
    "\n",
    "data = covid_data_raw\n",
    "\n",
    "columns_len = data.shape[1] # count the number of columns in the list\n",
    "\n",
    "covid_name = name_obj(data,\"The headers from the\", \"Dataframe are:\")\n",
    "print(column_headers_list(data))\n",
    "\n",
    "print()\n",
    "\n",
    "description_covid_raw = name_obj(data,\"The \",\" DataFrame has \"+str(columns_len)+\" columns\")\n",
    "print(description_covid_raw)\n",
    "\n",
    "print()\n",
    "\n",
    "#print(columns_comment(column_headers_list(df))) #xlist,column_count_limit=30)"
   ]
  },
  {
   "cell_type": "code",
   "execution_count": null,
   "id": "b1ca21f1",
   "metadata": {},
   "outputs": [],
   "source": [
    "# Summary of covid_data_raw file\n",
    "rows = covid_data_raw.shape[0]\n",
    "cols = covid_data_raw.shape[1]\n",
    "\n",
    "print(\"The raw data file has {} rows of data\".format(f\"{rows:,d}\"),\" and {} columns\".format(f\"{cols:,d}\"))\n",
    "if cols>column_count_limit:\n",
    "    print(\"There are many columns, drop a some of them to imporve performance and the size of the file\")\n",
    "else:\n",
    "    print(\"Number of columns appears manageable\")"
   ]
  },
  {
   "cell_type": "code",
   "execution_count": null,
   "id": "1edb260d",
   "metadata": {
    "scrolled": true
   },
   "outputs": [],
   "source": [
    "# drop columns\n",
    "    #source: https://datatofish.com/drop-columns-pandas-dataframe/#:~:text=Here%20is%20the%20approach%20that%20you%20can%20use,Python%20code%20to%20drop%20the%20%E2%80%98Shape%E2%80%99%20column%20is%3A\n",
    "covid_data = covid_data_raw.drop([\n",
    "    'continent',\n",
    "    'new_cases_smoothed',\n",
    "    'new_deaths_smoothed',\n",
    "    'new_cases_smoothed_per_million',\n",
    "    'new_deaths_smoothed_per_million',\n",
    "    'icu_patients_per_million',\n",
    "    'hosp_patients',\n",
    "    'hosp_patients_per_million',\n",
    "    'weekly_icu_admissions',\n",
    "    'weekly_icu_admissions_per_million',\n",
    "    'weekly_hosp_admissions',\n",
    "    'weekly_hosp_admissions_per_million',\n",
    "    'total_tests_per_thousand',\n",
    "    'new_tests_per_thousand',\n",
    "    'new_tests_smoothed',\n",
    "    'tests_per_case',\n",
    "    'tests_units',\n",
    "    'new_vaccinations_smoothed',\n",
    "    'total_vaccinations_per_hundred',\n",
    "    'people_vaccinated_per_hundred',\n",
    "    'people_fully_vaccinated_per_hundred',\n",
    "    'total_boosters_per_hundred',\n",
    "    'new_vaccinations_smoothed_per_million',\n",
    "    'new_people_vaccinated_smoothed',\n",
    "    'new_people_vaccinated_smoothed_per_hundred',\n",
    "    'stringency_index','median_age',\n",
    "    'aged_65_older',\n",
    "    'aged_70_older',\n",
    "    'cardiovasc_death_rate',\n",
    "    'diabetes_prevalence',\n",
    "    'female_smokers',\n",
    "    'male_smokers',\n",
    "    'handwashing_facilities',\n",
    "    'hospital_beds_per_thousand',\n",
    "    'life_expectancy',\n",
    "    'human_development_index',\n",
    "    'excess_mortality_cumulative_absolute',\n",
    "    'excess_mortality_cumulative',\n",
    "    'excess_mortality',\n",
    "    'excess_mortality_cumulative_per_million',\n",
    "    'total_cases_per_million',\n",
    "    'new_cases_per_million',\n",
    "    'total_deaths_per_million',\n",
    "    'new_deaths_per_million',\n",
    "    'reproduction_rate',\n",
    "    'people_vaccinated',\n",
    "    'total_boosters',\n",
    "    'new_vaccinations',\n",
    "    'new_tests_smoothed_per_thousand',\n",
    "    'new_tests',\n",
    "    'positive_rate'\n",
    "    ], \n",
    "    axis=1)\n",
    "\n",
    "covid_data.info()"
   ]
  },
  {
   "cell_type": "code",
   "execution_count": null,
   "id": "074f27d2",
   "metadata": {},
   "outputs": [],
   "source": [
    "# all but the first three columns are float objects; two: \"iso_code\", \"location\" are country specific categories\n",
    "# create a function to get a list of unique values\n",
    "\n",
    "# Function to get unique values\n",
    "  \n",
    "  \n",
    "def unique(list1):\n",
    "  \n",
    "    # Print directly by using * symbol\n",
    "    print(*Counter(list1))\n"
   ]
  },
  {
   "cell_type": "code",
   "execution_count": null,
   "id": "78eea430",
   "metadata": {
    "scrolled": true
   },
   "outputs": [],
   "source": [
    "#list of covid countrie ISO code\n",
    "\n",
    "# sort by ISO_code and Date\n",
    "covid_data = covid_data.sort_values(['iso_code', 'location', 'date'])\n",
    "\n",
    "#create a list of country codes from the covid data\n",
    "Country_lst_covid_1 = covid_data[\"iso_code\"].tolist()\n",
    "\n",
    "# list the country codes    \n",
    "country_iso_list = unique(Country_lst_covid_1)\n"
   ]
  },
  {
   "cell_type": "code",
   "execution_count": null,
   "id": "361ca497",
   "metadata": {},
   "outputs": [],
   "source": [
    "# Review of this object shows there are some ISO_Codes that are more than the standard 3 char length, these should be removed\n",
    "# these are related to OWID codes for regional aggregations of country data, they can be removed\n",
    "# convert to strin and find the OWID character pattern or the pattern is not 3 letters \\w\\w\\w\n",
    "\n",
    "#find_non_ISO_codes = re.complie(r')\n",
    "#re.search(r\"'OWID\",country_iso_list)"
   ]
  },
  {
   "cell_type": "code",
   "execution_count": null,
   "id": "db738756",
   "metadata": {},
   "outputs": [],
   "source": [
    "# drop the \"OWID_\" records\n",
    "\n",
    "# how many records have the OWID ISO_Code?\n",
    "covid_data_owid = covid_data[covid_data[\"iso_code\"].str.contains(\"OWID\")] #OWID data\n",
    "print(\"OWID data shape: \"+str(covid_data_owid.shape))\n",
    "\n",
    "covid_data = covid_data[covid_data[\"iso_code\"].str.contains(\"OWID\")==False] #Non OWID data\n",
    "print(\"Non OWID data shape: \"+str(covid_data.shape))\n"
   ]
  },
  {
   "cell_type": "code",
   "execution_count": null,
   "id": "8969fd8b",
   "metadata": {},
   "outputs": [],
   "source": [
    "\n",
    "# list the country ISO Codes again\n",
    "Country_lst_covid_1 = covid_data[\"iso_code\"].tolist()\n",
    "\n",
    "#re-run the unique records; OWID records are no longer displayed\n",
    "country_ISO_list = unique(Country_lst_covid_1)"
   ]
  },
  {
   "cell_type": "code",
   "execution_count": null,
   "id": "615a5a1d",
   "metadata": {},
   "outputs": [],
   "source": [
    "# no longer seeing the OWID codes"
   ]
  },
  {
   "cell_type": "code",
   "execution_count": null,
   "id": "a796a1ec",
   "metadata": {},
   "outputs": [],
   "source": [
    "# show the column headers and the number of columns\n",
    "\n",
    "df_head = covid_data\n",
    "\n",
    "columns_len = df_head.shape[1] # count the number of columns in the list\n",
    "\n",
    "print(name_obj(df_head,\"The headers from the \", \" DataFrame are:\"))\n",
    "column_headers_list(df_head)\n"
   ]
  },
  {
   "cell_type": "code",
   "execution_count": null,
   "id": "1fa4a069",
   "metadata": {},
   "outputs": [],
   "source": [
    "# print a summary of covid_data\n",
    "\n",
    "# Summary of covid_data_raw file\n",
    "rows = covid_data.shape[0]\n",
    "cols = covid_data.shape[1]\n",
    "\n",
    "print(\"The raw data file has {} rows of data\".format(f\"{rows:,d}\"),\"and {} columns\".format(f\"{cols:,d}\"))\n",
    "if cols>column_count_limit:\n",
    "    print(\"There are many columns, drop a some of them to imporve performance and the size of the file\")\n",
    "else:\n",
    "    print(\"Number of columns appears manageable\")"
   ]
  },
  {
   "cell_type": "code",
   "execution_count": null,
   "id": "86fe0904",
   "metadata": {},
   "outputs": [],
   "source": [
    "covid_data.head(5)"
   ]
  },
  {
   "cell_type": "code",
   "execution_count": null,
   "id": "c2279761",
   "metadata": {},
   "outputs": [],
   "source": [
    "covid_data.tail(5)"
   ]
  },
  {
   "cell_type": "code",
   "execution_count": null,
   "id": "5c9598a6",
   "metadata": {
    "scrolled": true
   },
   "outputs": [],
   "source": [
    "# Review Null data\n",
    "# pd.set_option('display.max_rows',None)\n",
    "print(\"Null data:\")\n",
    "print(covid_data.isna().sum())"
   ]
  },
  {
   "cell_type": "code",
   "execution_count": null,
   "id": "ee7e75c7",
   "metadata": {},
   "outputs": [],
   "source": [
    "# review of the columns and null data shows iso_code, loaction (country), date, population are fully populated\n",
    "# population density is not populated for everything, will need to confirm that for the selected date that his is improved\n",
    "# total_cases, new_cases, total_deaths, new_deaths etc I would expect null data as data would not be available for all \n",
    "#countries from the start of the data period, need to convert these to 0's\n",
    "#need to review \"gdp_per_capita\" and \"population_density\" data as that could impact report later on"
   ]
  },
  {
   "cell_type": "code",
   "execution_count": null,
   "id": "d1117a10",
   "metadata": {
    "scrolled": true
   },
   "outputs": [],
   "source": [
    "#Which fields have nan's\n",
    "covid_data[covid_data.isna().any(axis=1)]\n"
   ]
  },
  {
   "cell_type": "code",
   "execution_count": null,
   "id": "e41ad780",
   "metadata": {
    "scrolled": true
   },
   "outputs": [],
   "source": [
    "# review \"gdp_per_capita\" and \"population_density\"\n",
    "\n",
    "covid_data_gdp_pop = covid_data[[\"date\",\"iso_code\",\"location\",\"population\",\"population_density\",\"gdp_per_capita\"]]\n",
    "\n",
    "covid_data_gdp_pop[\"population\"].isnull()\n",
    "\n",
    "#covid_data_gdp_pop[covid_data_gdp_pop.isna().any(axis=1)]"
   ]
  },
  {
   "cell_type": "code",
   "execution_count": null,
   "id": "7847ec94",
   "metadata": {},
   "outputs": [],
   "source": [
    "# drop the NaN for the population and gdp columns\n",
    "covid_data.dropna(subset=[\"population\",\"population_density\",\"gdp_per_capita\"])\n",
    "#https://www.datasciencelearner.com/pandas-dropna-remove-nan-rows-python/"
   ]
  },
  {
   "cell_type": "code",
   "execution_count": null,
   "id": "0c77cc79",
   "metadata": {},
   "outputs": [],
   "source": [
    "# change the NaN's to 0 for the remainder valuations\n",
    "covid_data = covid_data.fillna(0)"
   ]
  },
  {
   "cell_type": "code",
   "execution_count": null,
   "id": "b1941dea",
   "metadata": {},
   "outputs": [],
   "source": [
    "covid_data\n"
   ]
  },
  {
   "cell_type": "code",
   "execution_count": null,
   "id": "8d54eadf",
   "metadata": {
    "scrolled": true
   },
   "outputs": [],
   "source": [
    "# How many records am I dealing with\n",
    "\n",
    "#total_records = covid_data.count(axis=1)\n",
    "#print(total_records)\n",
    "#print(\"\")\n",
    "\n",
    "# show the countries/ locations in the data\n",
    "print(\"ISO codes and Country\")\n",
    "print(covid_data.pivot_table(index = [\"iso_code\", \"location\"], aggfunc =\"size\"))\n",
    "\n",
    "print(\"\")\n",
    "# df.size\n",
    "print(\"Size:\")\n",
    "print(covid_data.size)\n",
    "\n",
    "print(\"\")\n",
    "# df.isnull()\n",
    "column_picker =\"total_deaths\"\n",
    "covid_ttl_deaths = covid_data.filter([\"iso_code\", \"location\",column_picker])\n",
    "bool_series_null =pd.isnull(covid_ttl_deaths[column_picker])\n",
    "\n",
    "print(\"Null\",column_picker,\": \")\n",
    "print(covid_ttl_deaths[bool_series_null])\n",
    "#print(covid_data.isnull())\n",
    "\n",
    "print(\"\")\n",
    "# df.notnull()\n",
    "bool_series = pd.notnull(covid_ttl_deaths[column_picker])\n",
    "print(\"Not null:\")\n",
    "print(covid_ttl_deaths[bool_series])\n",
    "\n",
    "print(\"\")\n",
    "# df.describe()\n",
    "print(\"Describe:\")\n",
    "print(covid_data.describe)\n"
   ]
  },
  {
   "cell_type": "code",
   "execution_count": null,
   "id": "3cc125bf",
   "metadata": {},
   "outputs": [],
   "source": []
  },
  {
   "cell_type": "code",
   "execution_count": null,
   "id": "73b8e3bf",
   "metadata": {
    "scrolled": true
   },
   "outputs": [],
   "source": []
  },
  {
   "cell_type": "code",
   "execution_count": null,
   "id": "fa4662b4",
   "metadata": {},
   "outputs": [],
   "source": []
  },
  {
   "cell_type": "code",
   "execution_count": null,
   "id": "d70311b1",
   "metadata": {},
   "outputs": [],
   "source": []
  },
  {
   "cell_type": "code",
   "execution_count": null,
   "id": "686f0387",
   "metadata": {
    "scrolled": true
   },
   "outputs": [],
   "source": [
    "# review GDP data\n",
    "\n",
    "#look at info for gdp data\n",
    "print(gdp_data_raw.info())\n",
    "\n",
    "# do not need most of the columns so will remove cols 4:63\n",
    "gdp_data = gdp_data_raw.drop(gdp_data_raw.iloc[:,4:63],axis = 1)\n",
    "\n",
    "#gdp_data = gdp_data_1.drop(gdp_data_raw.iloc[:,7],axis = 1)\n",
    "\n",
    "gdp_data.columns = [c.replace(' ', '_') for c in gdp_data.columns]\n",
    "\n",
    "print(gdp_data.info())\n",
    "print()\n",
    "print(gdp_data.head())   "
   ]
  },
  {
   "cell_type": "code",
   "execution_count": null,
   "id": "408d25a5",
   "metadata": {},
   "outputs": [],
   "source": [
    "# show the column headers and the number of columns\n",
    "\n",
    "columns_len = gdp_data.shape[1] # count the number of columns in the list\n",
    "gdp_data_name = name_obj(gdp_data,\"The headers from the \", \" Dataframe are:\")\n",
    "\n",
    "print(gdp_data_name)\n",
    "columns_lst_gdp = column_headers_list(gdp_data)\n",
    "print(columns_lst_gdp)\n",
    "\n",
    "print()\n",
    "\n",
    "print(name_obj(gdp_data,\"The \",\" DataFrame has \"+str(columns_len)+\" columns\"))\n",
    "\n",
    "print()\n",
    "\n",
    "#print(columns_comment())"
   ]
  },
  {
   "cell_type": "code",
   "execution_count": null,
   "id": "841e62ec",
   "metadata": {},
   "outputs": [],
   "source": [
    "# Correlations of the gdp_data\n",
    "gdp_data.corr()"
   ]
  },
  {
   "cell_type": "markdown",
   "id": "b817b874",
   "metadata": {},
   "source": [
    "<h4>Summary of data</h4>"
   ]
  },
  {
   "cell_type": "code",
   "execution_count": null,
   "id": "3137280a",
   "metadata": {
    "scrolled": false
   },
   "outputs": [],
   "source": [
    "# Summary of Covid data\n",
    "print(\"summary of Covid data\")\n",
    "print()\n",
    "\n",
    "# Number of unique countries\n",
    "n = covid_data.iso_code.nunique()\n",
    "print(\"No of unique countries (covid_data):\",n)\n",
    "\n",
    "print(\"\")\n",
    "\n",
    "# Number of unique dates\n",
    "n = covid_data.date.nunique()\n",
    "\n",
    "# What are the range of dates in data\n",
    "beg_date = min(covid_data[\"date\"]) #starting point of the available data\n",
    "end_date = max(covid_data[\"date\"]) #most recent data in the file\n",
    "\n",
    "print(\"No of unique dates: \",n)\n",
    "print(\"From: \",beg_date.strftime(\"%b %d %Y\"),\" to: \",end_date.strftime(\"%b %d %Y\"))\n",
    "print(\"\")\n",
    "\n",
    "# Number of records\n",
    "rec = covid_data.shape[0]\n",
    "col = covid_data.shape[1]\n",
    "\n",
    "print(\"No of rows: \",f\"{rec:,d}\")\n",
    "print(\"No of columns: \",f\"{col:,d}\") \n",
    "#source: https://stackoverflow.com/questions/60934535/format-integer-with-comma-using-python-printf\n",
    "print(\"\")"
   ]
  },
  {
   "cell_type": "code",
   "execution_count": null,
   "id": "627f0ca1",
   "metadata": {},
   "outputs": [],
   "source": [
    "# Summary of GDP data\n",
    "\n",
    "print(\"summary of GDP Data\")\n",
    "print()\n",
    "\n",
    "\n",
    "# Number of unique countries\n",
    "n = gdp_data.Country_Code.nunique()\n",
    "print(\"No of unique countries: \",n)\n",
    "print(\"\")\n",
    "\n",
    "# Number of records\n",
    "rec = gdp_data.shape[0]\n",
    "col = gdp_data.shape[1]\n",
    "\n",
    "print(\"No of rows: \",f\"{rec:,d}\")\n",
    "print(\"No of columns: \",f\"{col:,d}\") "
   ]
  },
  {
   "cell_type": "code",
   "execution_count": null,
   "id": "e492a77b",
   "metadata": {
    "scrolled": true
   },
   "outputs": [],
   "source": [
    "# Calculations for report:\n",
    "\n",
    "# date calculations\n",
    "# There needs to be a n_day (number of days) total for certain total columns to in turn calculate \n",
    "# comparative data against 100k of a countries population\n",
    "\n",
    "\n",
    "\n",
    "# n day calculations can't begin until the nth day after the first date in the dataset (beg_date)\n",
    "first_calc_date = beg_date +  timedelta(days=days_calc)\n",
    "print(\"Begining Date: \"+str(beg_date)+\"; Earliest starting date for calculations: \"+str((first_calc_date)))\n",
    "\n",
    "# calculate the start date for the n days data for each record\n",
    "n_day_start = covid_data[\"date\"] - timedelta(days=days_calc)\n",
    "\n",
    "print(n_day_start)\n",
    "print()\n",
    "\n",
    "# Insert a column with the n day start date, this shows when the n days rolling date can start calculating\n",
    "covid_data.insert(loc=3, column=\"n_day_start_date\", value=n_day_start, allow_duplicates=False)\n",
    "print(covid_data.info())\n",
    "\n"
   ]
  },
  {
   "cell_type": "code",
   "execution_count": null,
   "id": "de58a990",
   "metadata": {
    "scrolled": true
   },
   "outputs": [],
   "source": [
    "# n days totals \n",
    "# (https://stackoverflow.com/questions/28236305/how-do-i-sum-values-in-a-column-that-match-a-given-condition-using-pandas)\n",
    "# https://python.tutorialink.com/calculate-14-day-rolling-average-on-data-with-two-hierarchies/\n",
    "\n",
    "covid_data.sort_values(['iso_code','date'], ascending=(True,True), inplace=True)\n",
    "\n",
    "# Rolling new cases \n",
    "rolling_new_cases = covid_data.groupby(['iso_code'])['new_cases'].transform(lambda x: x.rolling(days_calc, 1).sum())\n",
    "\n",
    "# Insert a column with the \"n\" rolling new cases\n",
    "\n",
    "#new_column string name\n",
    "new_column = str(days_calc)+\"_days_rolling_new_cases\"\n",
    "print(new_column)\n",
    "\n",
    "print(new_column in covid_data.columns) # Test for existing column# True\n",
    "\n",
    "#  delete new column\n",
    "#del covid_data[str(days_calc)+\"_days_rolling_new_cases\"]\n",
    "\n",
    "# insert new_column\n",
    "covid_data.insert(loc=6, column=str(days_calc)+\"_days_rolling_new_cases\", value=rolling_new_cases, allow_duplicates=False)\n",
    "\n",
    "print(\"-\"*100)\n",
    "\n",
    "# Rolling new deaths \n",
    "rolling_new_deaths = covid_data.groupby(['iso_code'])['new_deaths'].transform(lambda x: x.rolling(days_calc, 1).sum())\n",
    "\n",
    "\n",
    "# Insert a column with the \"n\" rolling new deaths\n",
    "\n",
    "#new_column string name\n",
    "new_column_2 = str(days_calc)+\"_days_rolling_new_deaths\"\n",
    "print(new_column_2)\n",
    "\n",
    "print(new_column_2 in covid_data.columns) # Test for existing column# True\n",
    "\n",
    "# delete new column\n",
    "#del covid_data[str(days_calc)+\"_days_rolling_new_deaths\"]\n",
    "\n",
    "# insert new_column\n",
    "covid_data.insert(loc=9, column=str(days_calc)+\"_days_rolling_new_deaths\", value=rolling_new_cases, allow_duplicates=False)\n",
    "\n",
    "print(\"-\"*100)\n",
    "\n",
    "\n",
    "#repeat for new deaths\n",
    "#still need to create calculations for: \n",
    "    #total_cases_per_100k per 100k of the population (total_cases/population * 100,000)\n",
    "    #total_deaths_per_100k of the population (total_deaths/population * 100,000)\n",
    "    #total_cases_per_100sqkm of the country (total_cases/total country sqkm *100,000)\n",
    "    #total_deaths_per_100sqkm of the country (total_deaths/total country sqkm *100,000)\n",
    "#these will be used to use machine learning to establish if the GDP or density had an impact on the mortality\n",
    "#merge in the gdp data"
   ]
  },
  {
   "cell_type": "code",
   "execution_count": null,
   "id": "e0abdf46",
   "metadata": {},
   "outputs": [],
   "source": [
    "pop_per_100k = 100000"
   ]
  },
  {
   "cell_type": "code",
   "execution_count": null,
   "id": "6ef22a3d",
   "metadata": {},
   "outputs": [],
   "source": [
    "\n",
    "\n",
    "# Cases per 100K of population \n",
    "total_cases_per_100k = covid_data.total_cases/covid_data.population * pop_per_100k\n",
    "\n",
    "# Insert a column total cases per 100k\n",
    "\n",
    "#new_column string name\n",
    "new_column_3 = \"total_cases_per_100k\"\n",
    "print(new_column_3)\n",
    "\n",
    "print(new_column_3 in covid_data.columns) # Test for existing column# True\n",
    "\n",
    "#  delete new column\n",
    "#del covid_data[\"total_cases_per_100k\"]\n",
    "\n",
    "# insert new_column\n",
    "covid_data.insert(loc=6, column=\"total_cases_per_100k\", value=total_cases_per_100k, allow_duplicates=False)\n",
    "\n",
    "print(\"-\"*100)\n",
    "\n"
   ]
  },
  {
   "cell_type": "code",
   "execution_count": null,
   "id": "a1a634ae",
   "metadata": {},
   "outputs": [],
   "source": [
    "# deaths per 100K of population \n",
    "total_deaths_per_100k = covid_data.total_deaths/covid_data.population * pop_per_100k\n",
    "\n",
    "# Insert a column total deaths per 100k\n",
    "\n",
    "#new_column string name\n",
    "new_column_4 = \"total_deaths_per_100k\"\n",
    "print(new_column_4)\n",
    "\n",
    "print(new_column_4 in covid_data.columns) # Test for existing column# True\n",
    "\n",
    "#  delete new column\n",
    "#del covid_data[\"total_deaths_per_100k\"]\n",
    "\n",
    "# insert new_column\n",
    "covid_data.insert(loc=6, column=\"total_deaths_per_100k\", value=total_deaths_per_100k, allow_duplicates=False)\n",
    "\n",
    "print(\"-\"*100)"
   ]
  },
  {
   "cell_type": "code",
   "execution_count": null,
   "id": "6ba94b74",
   "metadata": {},
   "outputs": [],
   "source": []
  },
  {
   "cell_type": "code",
   "execution_count": null,
   "id": "a783454b",
   "metadata": {
    "scrolled": true
   },
   "outputs": [],
   "source": [
    "# Review covid data using the iso code for a country\n",
    "covid_data_country = covid_data[covid_data[\"iso_code\"]==\"ABW\"]\n",
    "\n",
    "covid_data_country.head(20)\n"
   ]
  },
  {
   "cell_type": "code",
   "execution_count": null,
   "id": "a492a7ea",
   "metadata": {},
   "outputs": [],
   "source": [
    "covid_data_country.tail(20)"
   ]
  },
  {
   "cell_type": "code",
   "execution_count": null,
   "id": "df35ea7e",
   "metadata": {},
   "outputs": [],
   "source": [
    "print(covid_data.info())\n"
   ]
  },
  {
   "cell_type": "code",
   "execution_count": null,
   "id": "cc1172dd",
   "metadata": {},
   "outputs": [],
   "source": [
    "# Correlations of the covid_data\n",
    "covid_data.corr()\n",
    "\n"
   ]
  },
  {
   "cell_type": "code",
   "execution_count": null,
   "id": "131e8a80",
   "metadata": {},
   "outputs": [],
   "source": [
    "#Correlation of population density\n",
    "corr = covid_data.corr()\n",
    "plt.figure(figsize=(20, 9))\n",
    "k = 12 #number of variables for heatmap\n",
    "cols = corr.nlargest(k, 'population_density')['population_density'].index\n",
    "cm = np.corrcoef(covid_data[cols].values.T)\n",
    "sns.set(font_scale=1.25)\n",
    "hm = sns.heatmap(cm, cbar=True, annot=True, square=True, fmt='.2f', annot_kws={'size': 10}, yticklabels=cols.values, xticklabels=cols.values,cmap=\"Blues\")\n",
    "plt.show()\n",
    "\n"
   ]
  },
  {
   "cell_type": "code",
   "execution_count": null,
   "id": "23515aea",
   "metadata": {},
   "outputs": [],
   "source": [
    "#Correlation of gdp\n",
    "corr = covid_data.corr()\n",
    "plt.figure(figsize=(20, 9))\n",
    "k = 12 #number of variables for heatmap\n",
    "cols = corr.nlargest(k, 'gdp_per_capita')['gdp_per_capita'].index\n",
    "cm = np.corrcoef(covid_data[cols].values.T)\n",
    "sns.set(font_scale=1.25)\n",
    "hm = sns.heatmap(cm, cbar=True, annot=True, square=True, fmt='.2f', annot_kws={'size': 10}, yticklabels=cols.values, xticklabels=cols.values,cmap=\"Blues\")\n",
    "plt.show()"
   ]
  },
  {
   "cell_type": "code",
   "execution_count": null,
   "id": "51263092",
   "metadata": {},
   "outputs": [],
   "source": [
    "pk = covid_data[\"iso_code\"]+str(covid_data['date'])\n",
    "print(pk)\n",
    "\n",
    "#insert pk into covid_data\n",
    "#del covid_data[\"pk\"] #delete pk column\n",
    "#covid_data.insert(0, 'pk', pk)\n",
    "\n",
    "\n",
    "#covid_data[\"pk\"]\n",
    "covid_data.info()"
   ]
  },
  {
   "cell_type": "code",
   "execution_count": null,
   "id": "2c50e161",
   "metadata": {},
   "outputs": [],
   "source": [
    "# Test gdp data using the iso code for USA\n",
    "gdp_data_usa = gdp_data[gdp_data[\"Country_Code\"]==\"USA\"]\n",
    "\n",
    "gdp_data_usa.head(20)\n",
    "print(gdp_data.info())"
   ]
  },
  {
   "cell_type": "code",
   "execution_count": null,
   "id": "0f61eba8",
   "metadata": {},
   "outputs": [],
   "source": [
    "#print(Country_lst_covid)"
   ]
  },
  {
   "cell_type": "markdown",
   "id": "d39e3d4f",
   "metadata": {},
   "source": [
    "<h3>Basic Charts</h3>"
   ]
  },
  {
   "cell_type": "code",
   "execution_count": null,
   "id": "c0ffea00",
   "metadata": {},
   "outputs": [],
   "source": [
    "# Set chart sizes to wide\n",
    "\n",
    "plt.rcParams['figure.figsize'] = [15, 5]\n"
   ]
  },
  {
   "cell_type": "code",
   "execution_count": null,
   "id": "2273af15",
   "metadata": {
    "scrolled": true
   },
   "outputs": [],
   "source": [
    "country_use_code = \"USA\"\n",
    "\n",
    "#covid_data = covid_data.set_index(\"pk\")\n",
    "\n",
    "iso_use = country_use_code\n",
    "\n",
    "print(\"Total Cases vs \"+new_column+\" for: \"+iso_use)\n",
    "\n",
    "\n",
    "# Basic plot of total covid cases over time\n",
    "fig, ax=plt.subplots(2,1, sharey=True)\n",
    "\n",
    "\n",
    "data=covid_data[covid_data[\"iso_code\"]==iso_use]\n",
    "data1=covid_data[covid_data[\"iso_code\"]==iso_use]\n",
    "\n",
    "ax[0].plot(data[\"date\"], data[\"total_cases\"], color='b')\n",
    "ax[1].plot(data[\"date\"], data[new_column], color='g') #using the new_column function above that identifies the name of the new column\n",
    "\n",
    "ax[1].set_xlabel(\"Date\")\n",
    "\n",
    "plt.show()"
   ]
  },
  {
   "cell_type": "code",
   "execution_count": null,
   "id": "0419e54a",
   "metadata": {},
   "outputs": [],
   "source": [
    "covid_data[\"gdp_per_capita\"].hist(bins=10)\n",
    "plt.show()"
   ]
  },
  {
   "cell_type": "code",
   "execution_count": null,
   "id": "20bc5c00",
   "metadata": {
    "scrolled": true
   },
   "outputs": [],
   "source": [
    "# Seaborn analysis\n",
    "\n",
    "#Create a scatter plot: use the \"end_date\" to filter the covid_data \n",
    "#and pring back the total_deaths by country divided by the population *100,00\n",
    "#compare to the gdp of the country and the population density, look for patterns in the top 20 and bottom 20\n"
   ]
  },
  {
   "cell_type": "code",
   "execution_count": null,
   "id": "fd33fad2",
   "metadata": {},
   "outputs": [],
   "source": [
    "#covid_data[covid_data[\"date\"].isin([\"2020-12-31\",\"2021-12-31\",\"2022-09-15\"])]#,last_date])]\n",
    "#covid_data.loc[(df[\"date\"]=\"2020-12-31\")]\n"
   ]
  },
  {
   "cell_type": "code",
   "execution_count": null,
   "id": "59d0265c",
   "metadata": {
    "scrolled": true
   },
   "outputs": [],
   "source": [
    "# create a subset of the COVID data for use with seaborn analysis\n",
    "\n",
    "covid_data_small = covid_data[['date',\n",
    "                               'iso_code',\n",
    "                               'location',\n",
    "                               'total_cases',\n",
    "                               'total_cases_per_100k',\n",
    "                               'total_deaths',\n",
    "                               'total_deaths_per_100k',\n",
    "                               'population',\n",
    "                               'population_density',\n",
    "                               'gdp_per_capita',\n",
    "                               'extreme_poverty',\n",
    "                               'people_fully_vaccinated'\n",
    "                              ]]\n",
    "\n",
    "\n",
    "#covid_data_small.fillna(0)\n",
    "covid_data_small\n",
    "\n",
    "last_date = end_date - timedelta(2) #last date in table less two days aas it can take time for new data to roll in\n",
    "print(\"last date to use: \"+str(last_date))\n",
    "\n"
   ]
  },
  {
   "cell_type": "code",
   "execution_count": null,
   "id": "b4c77c61",
   "metadata": {},
   "outputs": [],
   "source": [
    "# select dates for analysis\n",
    "covid_data_sns = covid_data_small[covid_data_small[\"date\"].isin([\"2020-12-31\",\"2021-12-31\",str(last_date)])]\n",
    "\n",
    "print(\"covid_data_sns.shape\") \n",
    "print(covid_data_sns.shape)                        \n",
    "print(covid_data_sns.head())\n",
    "print(covid_data_sns.tail())\n",
    "print()\n",
    "print(\"Null data\")\n",
    "print(covid_data_sns.isna().sum())\n",
    "print()\n",
    "print(covid_data_sns.corr())\n",
    "## will need to update to use the total_cases/population*100,00 and total_deaths/population*100,00"
   ]
  },
  {
   "cell_type": "code",
   "execution_count": null,
   "id": "ba71c7d8",
   "metadata": {},
   "outputs": [],
   "source": [
    "\n"
   ]
  },
  {
   "cell_type": "code",
   "execution_count": null,
   "id": "2488455d",
   "metadata": {
    "scrolled": true
   },
   "outputs": [],
   "source": [
    "sns.scatterplot(x=\"gdp_per_capita\",y=\"population\",data=covid_data_sns)\n",
    "\n",
    "plt.show()"
   ]
  },
  {
   "cell_type": "code",
   "execution_count": null,
   "id": "2ecd117b",
   "metadata": {
    "scrolled": true
   },
   "outputs": [],
   "source": [
    "sns.scatterplot(x=\"gdp_per_capita\",y=\"total_deaths_per_100k\",data=covid_data_sns, hue=\"location\")\n",
    "\n",
    "plt.show()"
   ]
  },
  {
   "cell_type": "code",
   "execution_count": null,
   "id": "2c1b382a",
   "metadata": {},
   "outputs": [],
   "source": [
    "#create data sets for each year\n",
    "df_2020 = covid_data_sns[covid_data_sns[\"date\"].isin([\"2020-12-31\"])]\n",
    "df_2021 = covid_data_sns[covid_data_sns[\"date\"].isin([\"2021-12-31\"])]\n",
    "df_2022 = covid_data_sns[covid_data_sns[\"date\"].isin([\"2022-09-15\"])]\n",
    "\n"
   ]
  },
  {
   "cell_type": "code",
   "execution_count": null,
   "id": "9fe669d2",
   "metadata": {},
   "outputs": [],
   "source": [
    "# Top n data; use: top_n_parameter \n",
    "#https://datascientyst.com/get-top-10-highest-lowest-values-pandas/\n",
    "#df.nlargest; df.nsmallest\n",
    "\n",
    "\n",
    "#Top countries by cases and deaths:\n",
    "\n",
    "df_2020 = covid_data_sns[covid_data_sns[\"date\"].isin([\"2020-12-31\"])]\n",
    "print(df_2020.info)\n",
    "df_2021 = covid_data_sns[covid_data_sns[\"date\"].isin([\"2021-12-31\"])]\n",
    "df_2022 = covid_data_sns[covid_data_sns[\"date\"].isin([\"2022-09-15\"])]\n",
    "\n",
    "top_df_2020_cases_per_100k = df_2020.nlargest(n=top_n_parameter, columns=[\"total_cases_per_100k\"])\n",
    "print(\"top_df_2020_cases_per_100k\")\n",
    "print(top_df_2020_cases_per_100k)\n",
    "print()\n",
    "\n",
    "top_df_2020_deaths_per_100k = df_2020.nlargest(n=top_n_parameter, columns=[\"total_deaths_per_100k\"])\n",
    "print(\"top_df_2020_deaths_per_100k\")\n",
    "print(top_df_2020_deaths_per_100k)\n",
    "print()\n",
    "\n",
    "top_df_2021_cases_per_100k = df_2021.nlargest(n=top_n_parameter, columns=[\"total_cases_per_100k\"])\n",
    "print(\"top_df_2021_cases_per_100k\")\n",
    "print(top_df_2021_cases_per_100k)\n",
    "print()\n",
    "\n",
    "top_df_2021_deaths_per_100k = df_2021.nlargest(n=top_n_parameter, columns=[\"total_deaths_per_100k\"])\n",
    "print(\"top_df_2021_deaths_per_100k\")\n",
    "print(top_df_2021_deaths_per_100k)\n",
    "print()\n",
    "\n",
    "top_df_2022_cases_per_100k = df_2022.nlargest(n=top_n_parameter, columns=[\"total_cases_per_100k\"])\n",
    "print(\"top_df_2022_cases_per_100k\")\n",
    "print(top_df_2022_cases_per_100k)\n",
    "print()\n",
    "\n",
    "top_df_2022_deaths_per_100k = df_2022.nlargest(n=top_n_parameter, columns=[\"total_deaths_per_100k\"])\n",
    "print(\"top_df_2022_deaths_per_100k\")\n",
    "print(top_df_2022_deaths_per_100k)\n",
    "\n",
    "\n"
   ]
  },
  {
   "cell_type": "code",
   "execution_count": null,
   "id": "3fa0d219",
   "metadata": {},
   "outputs": [],
   "source": [
    "# Bottom n data; use: top_n_parameter \n",
    "#https://datascientyst.com/get-top-10-highest-lowest-values-pandas/\n",
    "#df.nlargest; df.nsmallest\n",
    "\n",
    "\n",
    "bot_df_2020_cases_per_100k = df_2020.nsmallest(n=top_n_parameter, columns=[\"total_cases_per_100k\"])\n",
    "print(\"bot_df_2020_cases_per_100k\")\n",
    "print(top_df_2020_cases_per_100k)\n",
    "print()\n",
    "\n",
    "bot_df_2020_deaths_per_100k = df_2020.nsmallest(n=top_n_parameter, columns=[\"total_deaths_per_100k\"])\n",
    "print(\"bot_df_2020_deaths_per_100k\")\n",
    "print(top_df_2020_deaths_per_100k)\n",
    "print()\n",
    "\n",
    "bot_df_2021_cases_per_100k = df_2021.nsmallest(n=top_n_parameter, columns=[\"total_cases_per_100k\"])\n",
    "print(\"bot_df_2021_cases_per_100k\")\n",
    "print(top_df_2021_cases_per_100k)\n",
    "print()\n",
    "\n",
    "bot_df_2021_deaths_per_100k = df_2021.nsmallest(n=top_n_parameter, columns=[\"total_deaths_per_100k\"])\n",
    "print(\"bot_df_2021_deaths_per_100k\")\n",
    "print(top_df_2021_deaths_per_100k)\n",
    "print()\n",
    "\n",
    "bot_df_2022_cases_per_100k = df_2022.nsmallest(n=top_n_parameter, columns=[\"total_cases_per_100k\"])\n",
    "print(\"bot_df_2022_cases_per_100k\")\n",
    "print(top_df_2022_cases_per_100k)\n",
    "print()\n",
    "\n",
    "bot_df_2022_deaths_per_100k = df_2022.nsmallest(n=top_n_parameter, columns=[\"total_deaths_per_100k\"])\n",
    "print(\"bot_df_2022_deaths_per_100k\")\n",
    "print(top_df_2022_deaths_per_100k)\n"
   ]
  },
  {
   "cell_type": "code",
   "execution_count": null,
   "id": "0f676dbe",
   "metadata": {},
   "outputs": [],
   "source": [
    "#Top Population and GDP per capita\n",
    "\n",
    "#Top deaths vs gdp\n",
    "sns.scatterplot(x=\"gdp_per_capita\",y=\"total_deaths_per_100k\",data=top_df_2022_cases_per_100k, hue=\"location\")\n",
    "plt.title(\"High Deaths per 100k vs GDP, 2022\", size = 15)\n",
    "plt.show()\n",
    "\n",
    "#bottom deaths vs gdp\n",
    "sns.scatterplot(x=\"gdp_per_capita\",y=\"total_deaths_per_100k\",data=bot_df_2022_cases_per_100k, hue=\"location\")\n",
    "plt.title(\"Low Deaths per 100k vs GDP, 2022\", size = 15)\n",
    "plt.show()"
   ]
  },
  {
   "cell_type": "code",
   "execution_count": null,
   "id": "512ab33f",
   "metadata": {},
   "outputs": [],
   "source": [
    "#what are the bands to use for calssifying the mortality rates as \"Low\" vs \"High\"\n",
    "#use the top deaths from 2021 minimum value and the bot deaths from 2022 max value to set the thresholds\n",
    "\n",
    "# min value in the Top mortality (top deaths) data\n",
    "print(\"min 2020 top deaths/ 100k:\"+str(top_df_2020_cases_per_100k[\"total_deaths_per_100k\"].min()))\n",
    "print(\"max 2020 top deaths/ 100k:\"+str(top_df_2020_cases_per_100k[\"total_deaths_per_100k\"].max()))\n",
    "print(\"-\"*100)\n",
    "\n",
    "# max value in the bottom mortality (bottom deaths) data\n",
    "print(\"max 2022 lowest deaths/ 100k:\"+str(bot_df_2022_cases_per_100k[\"total_deaths_per_100k\"].max()))\n",
    "print(\"min 2022 lowest deaths/ 100k:\"+str(bot_df_2022_cases_per_100k[\"total_deaths_per_100k\"].min()))\n"
   ]
  },
  {
   "cell_type": "code",
   "execution_count": null,
   "id": "d96b9b86",
   "metadata": {
    "scrolled": true
   },
   "outputs": [],
   "source": [
    "#Mortality per 100k and GDP per capita\n",
    "\n",
    "#High mortality vs gdp\n",
    "sns.relplot(x=\"gdp_per_capita\",\n",
    "            y=\"total_deaths_per_100k\",\n",
    "            data=covid_data_sns, \n",
    "            kind=\"scatter\",\n",
    "            col = \"date\")\n",
    "plt.show()\n",
    "\n",
    "#bottom deaths vs gdp\n",
    "#sns.scatterplot(x=\"gdp_per_capita\",y=\"total_deaths_per_100k\",data=bot_df_2020_cases_per_100k, hue=\"location\")\n",
    "#plt.show()"
   ]
  },
  {
   "cell_type": "markdown",
   "id": "c8795251",
   "metadata": {},
   "source": [
    "we can observe from this that there are expected results that over time lower gdp per capita records had higher mortality per 100k of the population. However, there are some interesting results where lower gdp did not have a high mortality"
   ]
  },
  {
   "cell_type": "code",
   "execution_count": null,
   "id": "7704169d",
   "metadata": {},
   "outputs": [],
   "source": [
    "#Mortality per 100k and population density\n",
    "\n",
    "#High mortality vs pop density\n",
    "sns.relplot(x=\"population_density\",\n",
    "            y=\"total_deaths_per_100k\",\n",
    "            data=covid_data_sns, \n",
    "            kind=\"scatter\",\n",
    "            col = \"date\")\n",
    "plt.show()\n",
    "\n",
    "#bottom deaths vs gdp\n",
    "#sns.scatterplot(x=\"gdp_per_capita\",y=\"total_deaths_per_100k\",data=bot_df_2020_cases_per_100k, hue=\"location\")\n",
    "#plt.show()"
   ]
  },
  {
   "cell_type": "code",
   "execution_count": null,
   "id": "c7978887",
   "metadata": {},
   "outputs": [],
   "source": [
    "#Mortality vs population\n",
    "sns.relplot(x=\"population\",\n",
    "            y=\"total_deaths_per_100k\",\n",
    "            data=covid_data_sns, \n",
    "            kind=\"scatter\",\n",
    "            col = \"date\")\n",
    "plt.show()\n",
    "\n",
    "#bottom Mortality vs gdp\n",
    "#sns.scatterplot(x=\"gdp_per_capita\",y=\"total_deaths_per_100k\",data=bot_df_2020_cases_per_100k, hue=\"location\")\n",
    "#plt.show()"
   ]
  },
  {
   "cell_type": "code",
   "execution_count": null,
   "id": "1c326f5d",
   "metadata": {
    "scrolled": true
   },
   "outputs": [],
   "source": [
    "covid_temp = covid_data_sns\n",
    "covid_temp.sort_values(\"population\", axis = 0, ascending = False, inplace = True, na_position ='last')\n",
    "covid_temp"
   ]
  },
  {
   "cell_type": "code",
   "execution_count": null,
   "id": "a90fc7ce",
   "metadata": {},
   "outputs": [],
   "source": [
    "# Machine Learning\n",
    "# use the top 20 and bottom 20 data sets combined to create the test for year ends and inluding the most recent date\n",
    "#(between the last 12 months)"
   ]
  },
  {
   "cell_type": "code",
   "execution_count": null,
   "id": "8073f4a4",
   "metadata": {},
   "outputs": [],
   "source": [
    "# using sklearn neighbors\n",
    "df_sk = covid_data_sns #df_2020 \n",
    "\n",
    "X = df_sk[[\"total_cases_per_100k\",\"population\"]].values\n",
    "y = df_sk[\"total_deaths_per_100k\"].values\n",
    "print(X.shape, y.shape)"
   ]
  },
  {
   "cell_type": "code",
   "execution_count": null,
   "id": "ab5fa439",
   "metadata": {},
   "outputs": [],
   "source": [
    "# instantiate\n",
    "\n",
    "knn = KNeighborsClassifier(n_neighbors=15)\n",
    "knn.fit(X,y)\n",
    "\n",
    "X_new = df_2021\n",
    "print(X_new.shape)\n",
    "\n",
    "#predictions = knn.predict(X_new)\n",
    "#print(\"Predictions: {}\".format(predictions))"
   ]
  },
  {
   "cell_type": "code",
   "execution_count": null,
   "id": "3fa8b257",
   "metadata": {},
   "outputs": [],
   "source": [
    "df_sk = df_2020 \n",
    "\n",
    "X = df_sk[[\"gdp_per_capita\",\"population_density\"]].values\n",
    "y = df_sk[\"total_deaths_per_100k\"].values\n",
    "print(X.shape, y.shape)"
   ]
  },
  {
   "cell_type": "code",
   "execution_count": null,
   "id": "cfd1293b",
   "metadata": {},
   "outputs": [],
   "source": [
    "# instantiate\n",
    "\n",
    "knn = KNeighborsClassifier(n_neighbors=5)\n",
    "knn.fit(X,y)\n",
    "\n",
    "X_new = df_2021\n",
    "print(X_new.shape)\n",
    "\n",
    "#predictions = knn.predict(X_new)\n",
    "#print(\"Predictions: {}\".format(predictions))"
   ]
  },
  {
   "cell_type": "markdown",
   "id": "35639909",
   "metadata": {},
   "source": [
    "    \n",
    "<h6>Notes</h6>\n",
    "Linking to data\n",
    "\tDifferent sources \n",
    "\n",
    "Exploring, Understanding and Cleaning data\n",
    "\tPrint summary statistics\n",
    "\tPrint DataFrame information\n",
    "\tInspect for missing values\n",
    "\t\n",
    "\tUse visuals to identify issues with the data?\n",
    "\t\n",
    "\tdf.info()\n",
    "\tdf.shape\n",
    "\tdf.size\n",
    "\tdf.isnull()\n",
    "\tdf.corr()\n",
    "\tList of column headers\n",
    "\t\n",
    "\tHandle the missing values (replace with NaN)\n",
    "\t\n",
    "Joining data\n",
    "Using dictionaries\n",
    "Using dataframes\n",
    "\t\n",
    "Charting\n",
    "\tBuild a chart\n",
    "\t\tColour, size, types\n",
    "\tCan we build a dashboard\n",
    "\tCan we make the charts interactive\n",
    "\tAnnotate anomalies\n",
    "\tBuild a story\n",
    "\t\n",
    "\t\n",
    "Dates\n",
    "\tCOVID creating 14 day averages per 100k of the population\n",
    "\t\tNew cases\n",
    "\t\tTotal cases\n",
    "\t\tNew deaths\n",
    "\t\tTotal deaths\n",
    "\t\t\n",
    "\tCan we identify the dates of lockdowns and the impact on positive cases per 100k; how long after a lockdown did the rates come back down, can we compare to a country that did not implement lockdowns\n",
    "\t\n",
    "\t\tTotal positive cases\n",
    "\t\tCases in hospital \n",
    "\t\tCases in ICU\n",
    "\t\tReproduction rate\n",
    "\t\t\n",
    "\tIs there a correlation between\n",
    "\t\tThe GDP of a country and the fatality\n",
    "\t\tThe population density and the fatality\n",
    "![image.png](attachment:image.png)"
   ]
  },
  {
   "cell_type": "code",
   "execution_count": null,
   "id": "e265a2b9",
   "metadata": {},
   "outputs": [],
   "source": []
  },
  {
   "cell_type": "markdown",
   "id": "7e7ad932",
   "metadata": {},
   "source": [
    "<h2 style=\"color:#00008b;\">Results</h2>"
   ]
  },
  {
   "cell_type": "code",
   "execution_count": null,
   "id": "c72b8f7d",
   "metadata": {},
   "outputs": [],
   "source": []
  },
  {
   "cell_type": "markdown",
   "id": "3ab3e349",
   "metadata": {},
   "source": [
    "<h2 style=\"color:#00008b;\">Insights</h2>"
   ]
  },
  {
   "cell_type": "code",
   "execution_count": null,
   "id": "a8e54b81",
   "metadata": {},
   "outputs": [],
   "source": []
  },
  {
   "cell_type": "markdown",
   "id": "8b0f7443",
   "metadata": {},
   "source": [
    "<h2 style=\"color:#00008b;\">References</h2>\n",
    "HTML Code help: <a href=\"https://www.w3schools.com/html/html_links.asp\" target=\"_blank\">W3 Schools</a> \n",
    "\n",
    "Our World in Data (OWID): <a href=\"https://ourworldindata.org/coronavirus#explore-the-global-situation\" target=\"_blank\">https://ourworldindata.org/coronavirus#explore-the-global-situation</a> \n",
    "\n",
    "The World Bank GDP: <a href=\"https://data.worldbank.org/indicator/NY.GDP.MKTP.CD?year_high_desc=false\" target=\"_blank\">https://data.worldbank.org/indicator/NY.GDP.MKTP.CD?year_high_desc=false</a>\n",
    "\n",
    "Python:\n",
    "    <p>formatting numbers: https://pythonguides.com/python-format-number-with-commas/#:~:text=Python%20format%20number%20with%20commas%20Let%20us%20see,comma%20to%20every%20thousand%20places%20starting%20from%20left.</p>\n",
    "    <p>formatting dates: https://stackabuse.com/how-to-format-dates-in-python/</p>\n",
    "    "
   ]
  },
  {
   "cell_type": "code",
   "execution_count": null,
   "id": "e1cec7ad",
   "metadata": {},
   "outputs": [],
   "source": []
  }
 ],
 "metadata": {
  "kernelspec": {
   "display_name": "Python 3 (ipykernel)",
   "language": "python",
   "name": "python3"
  },
  "language_info": {
   "codemirror_mode": {
    "name": "ipython",
    "version": 3
   },
   "file_extension": ".py",
   "mimetype": "text/x-python",
   "name": "python",
   "nbconvert_exporter": "python",
   "pygments_lexer": "ipython3",
   "version": "3.9.7"
  }
 },
 "nbformat": 4,
 "nbformat_minor": 5
}
