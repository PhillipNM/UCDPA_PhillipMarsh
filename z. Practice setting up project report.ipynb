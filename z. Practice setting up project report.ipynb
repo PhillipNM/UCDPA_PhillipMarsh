{
 "cells": [
  {
   "cell_type": "markdown",
   "id": "b48e7dcd",
   "metadata": {},
   "source": [
    "<H1>Project Report - Phillip Marsh</H1>\n",
    "\n",
    "<H2>GitHub URL</H2>\n",
    "Phillip's GutHub can be afound at: <a href=\"https://github.com/PhillipNM/UCDPA_PhillipMarsh\" target=\"_blank\">Phillip's GutHub Repository</a>\n"
   ]
  },
  {
   "cell_type": "code",
   "execution_count": null,
   "id": "b01ed13c",
   "metadata": {},
   "outputs": [],
   "source": []
  }
 ],
 "metadata": {
  "kernelspec": {
   "display_name": "Python 3 (ipykernel)",
   "language": "python",
   "name": "python3"
  },
  "language_info": {
   "codemirror_mode": {
    "name": "ipython",
    "version": 3
   },
   "file_extension": ".py",
   "mimetype": "text/x-python",
   "name": "python",
   "nbconvert_exporter": "python",
   "pygments_lexer": "ipython3",
   "version": "3.9.7"
  }
 },
 "nbformat": 4,
 "nbformat_minor": 5
}
