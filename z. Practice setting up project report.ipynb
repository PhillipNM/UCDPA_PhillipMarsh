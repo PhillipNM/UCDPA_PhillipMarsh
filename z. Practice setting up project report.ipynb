{
 "cells": [
  {
   "cell_type": "markdown",
   "id": "86234c70",
   "metadata": {},
   "source": [
    "<H1>Project Report - Phillip Marsh</H1>\n",
    "\n",
    "<H2 style=\"color:#00008b;\">GitHub URL</H2>\n",
    "Phillip's GutHub can be found at: <a href=\"https://github.com/PhillipNM/UCDPA_PhillipMarsh\" target=\"_blank\">Phillip's GitHub Repository</a>\n",
    "\n",
    "<h2 style=\"color:#00008b;\">Abstract</h2>\n",
    "(short overview of the entire project)\n",
    "\n",
    "<h2 style=\"color:#00008b;\">Introduction</h2>\n",
    "(Explain why you chose this project use case)\n",
    "\n",
    "<h2 style=\"color:#00008b;\">Datasets</h2>\n",
    "(Provide a description of your dataset and source. Also justify why you chose this source)\n",
    "source of covid data: https://github.com/owid/covid-19-data/tree/master/public/data \n",
    "\n"
   ]
  },
  {
   "cell_type": "code",
   "execution_count": 1,
   "id": "e93ce058",
   "metadata": {},
   "outputs": [
    {
     "name": "stdout",
     "output_type": "stream",
     "text": [
      "  iso_code continent     location        date  total_cases  new_cases  \\\n",
      "0      AFG      Asia  Afghanistan  2020-02-24          5.0        5.0   \n",
      "1      AFG      Asia  Afghanistan  2020-02-25          5.0        0.0   \n",
      "2      AFG      Asia  Afghanistan  2020-02-26          5.0        0.0   \n",
      "3      AFG      Asia  Afghanistan  2020-02-27          5.0        0.0   \n",
      "4      AFG      Asia  Afghanistan  2020-02-28          5.0        0.0   \n",
      "\n",
      "   new_cases_smoothed  total_deaths  new_deaths  new_deaths_smoothed  ...  \\\n",
      "0                 NaN           NaN         NaN                  NaN  ...   \n",
      "1                 NaN           NaN         NaN                  NaN  ...   \n",
      "2                 NaN           NaN         NaN                  NaN  ...   \n",
      "3                 NaN           NaN         NaN                  NaN  ...   \n",
      "4                 NaN           NaN         NaN                  NaN  ...   \n",
      "\n",
      "   female_smokers  male_smokers  handwashing_facilities  \\\n",
      "0             NaN           NaN                  37.746   \n",
      "1             NaN           NaN                  37.746   \n",
      "2             NaN           NaN                  37.746   \n",
      "3             NaN           NaN                  37.746   \n",
      "4             NaN           NaN                  37.746   \n",
      "\n",
      "   hospital_beds_per_thousand  life_expectancy  human_development_index  \\\n",
      "0                         0.5            64.83                    0.511   \n",
      "1                         0.5            64.83                    0.511   \n",
      "2                         0.5            64.83                    0.511   \n",
      "3                         0.5            64.83                    0.511   \n",
      "4                         0.5            64.83                    0.511   \n",
      "\n",
      "   excess_mortality_cumulative_absolute  excess_mortality_cumulative  \\\n",
      "0                                   NaN                          NaN   \n",
      "1                                   NaN                          NaN   \n",
      "2                                   NaN                          NaN   \n",
      "3                                   NaN                          NaN   \n",
      "4                                   NaN                          NaN   \n",
      "\n",
      "   excess_mortality  excess_mortality_cumulative_per_million  \n",
      "0               NaN                                      NaN  \n",
      "1               NaN                                      NaN  \n",
      "2               NaN                                      NaN  \n",
      "3               NaN                                      NaN  \n",
      "4               NaN                                      NaN  \n",
      "\n",
      "[5 rows x 67 columns]\n"
     ]
    }
   ],
   "source": [
    "# Import pandas\n",
    "import pandas as pd\n",
    "\n",
    "# Load dataset COVID data\n",
    "covid_data = pd.read_csv(\"/Users/Phillip/UDCPA_PhillipMarsh/owid-covid-data.csv\")\n",
    "\n",
    "# look at header sample data\n",
    "print(covid_data.head())\n"
   ]
  },
  {
   "cell_type": "code",
   "execution_count": null,
   "id": "e492a77b",
   "metadata": {},
   "outputs": [],
   "source": []
  },
  {
   "cell_type": "markdown",
   "id": "84db395c",
   "metadata": {},
   "source": [
    "<h2 style=\"color:#00008b;\">Implementation Process</h2>"
   ]
  },
  {
   "cell_type": "code",
   "execution_count": null,
   "id": "e265a2b9",
   "metadata": {},
   "outputs": [],
   "source": []
  },
  {
   "cell_type": "markdown",
   "id": "7e7ad932",
   "metadata": {},
   "source": [
    "<h2 style=\"color:#00008b;\">Results</h2>"
   ]
  },
  {
   "cell_type": "code",
   "execution_count": null,
   "id": "c72b8f7d",
   "metadata": {},
   "outputs": [],
   "source": []
  },
  {
   "cell_type": "markdown",
   "id": "3ab3e349",
   "metadata": {},
   "source": [
    "<h2 style=\"color:#00008b;\">Insights</h2>"
   ]
  },
  {
   "cell_type": "code",
   "execution_count": null,
   "id": "a8e54b81",
   "metadata": {},
   "outputs": [],
   "source": []
  },
  {
   "cell_type": "markdown",
   "id": "8b0f7443",
   "metadata": {},
   "source": [
    "<h2 style=\"color:#00008b;\">References</h2>\n",
    "HTML Code help: <a href=\"https://www.w3schools.com/html/html_links.asp\" target=\"_blank\">W3 Schools</a> \n",
    "\n",
    "Our World in Data (OWID): <a href=\"https://ourworldindata.org/coronavirus#explore-the-global-situation\" target=\"_blank\">https://ourworldindata.org/coronavirus#explore-the-global-situation</a> "
   ]
  },
  {
   "cell_type": "code",
   "execution_count": null,
   "id": "e1cec7ad",
   "metadata": {},
   "outputs": [],
   "source": []
  }
 ],
 "metadata": {
  "kernelspec": {
   "display_name": "Python 3 (ipykernel)",
   "language": "python",
   "name": "python3"
  },
  "language_info": {
   "codemirror_mode": {
    "name": "ipython",
    "version": 3
   },
   "file_extension": ".py",
   "mimetype": "text/x-python",
   "name": "python",
   "nbconvert_exporter": "python",
   "pygments_lexer": "ipython3",
   "version": "3.9.7"
  }
 },
 "nbformat": 4,
 "nbformat_minor": 5
}
